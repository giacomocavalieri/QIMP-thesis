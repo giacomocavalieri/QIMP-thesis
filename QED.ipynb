{
 "cells": [
  {
   "cell_type": "code",
   "execution_count": 1,
   "metadata": {},
   "outputs": [],
   "source": [
    "from qimp import *\n",
    "import cv2 as cv"
   ]
  },
  {
   "cell_type": "code",
   "execution_count": 2,
   "metadata": {},
   "outputs": [],
   "source": [
    "def get_imgs(edge, *paths):\n",
    "    \"\"\" Reads multiple images and resize them to an (edge x edge) square image \"\"\"\n",
    "    temp = [cv.imread(path, cv.IMREAD_GRAYSCALE) for path in paths]\n",
    "    return [cv.resize(img, (edge,edge), interpolation=cv.INTER_AREA) for img in temp]"
   ]
  },
  {
   "cell_type": "code",
   "execution_count": 3,
   "metadata": {},
   "outputs": [],
   "source": [
    "paths = [\"pics/cat.jpg\", \"pics/test.png\"]\n",
    "edge = 32\n",
    "\n",
    "imgs = get_imgs(edge, *paths)\n",
    "# Encode the image in a quantum circuit using the QPIE representation\n",
    "qc = qimr.img_to_qc(imgs[0])"
   ]
  },
  {
   "cell_type": "code",
   "execution_count": 4,
   "metadata": {},
   "outputs": [],
   "source": [
    "# Execute QED on the encoded image\n",
    "edges = qed.qc_to_edge(qc, mean_diff=True, shots=1000, intermediate_results=True)"
   ]
  },
  {
   "cell_type": "code",
   "execution_count": 5,
   "metadata": {},
   "outputs": [],
   "source": [
    "# Save the images\n",
    "for i, img in enumerate(edges, start=1):\n",
    "    cv.imwrite(f\"pics/edge_{i}.png\", img)"
   ]
  }
 ],
 "metadata": {
  "kernelspec": {
   "display_name": "Python 3",
   "language": "python",
   "name": "python3"
  },
  "language_info": {
   "codemirror_mode": {
    "name": "ipython",
    "version": 3
   },
   "file_extension": ".py",
   "mimetype": "text/x-python",
   "name": "python",
   "nbconvert_exporter": "python",
   "pygments_lexer": "ipython3",
   "version": "3.7.6"
  }
 },
 "nbformat": 4,
 "nbformat_minor": 4
}
